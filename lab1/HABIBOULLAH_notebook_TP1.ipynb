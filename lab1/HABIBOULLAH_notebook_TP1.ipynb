{
 "cells": [
  {
   "cell_type": "markdown",
   "metadata": {},
   "source": [
    " # MTH8408 : Méthodes d'optimisation et contrôle optimal\n",
    " ## Laboratoire 1: Outils pour l'algèbre linéaire et l'optimisation\n",
    "Paul Raynaud"
   ]
  },
  {
   "cell_type": "markdown",
   "metadata": {},
   "source": [
    "Nom : Mohamed Laghdaf HABIBOULLAH"
   ]
  },
  {
   "cell_type": "markdown",
   "metadata": {},
   "source": [
    "Lien git du fork : [https://github.com/MohamedLaghdafHABIBOULLAH/MTH8408-Hiv24.git](https://github.com/MohamedLaghdafHABIBOULLAH/MTH8408-Hiv24.git)"
   ]
  },
  {
   "cell_type": "markdown",
   "metadata": {},
   "source": [
    "### Equations du second degré"
   ]
  },
  {
   "cell_type": "code",
   "execution_count": 48,
   "metadata": {},
   "outputs": [
    {
     "data": {
      "text/plain": [
       "solvepoly2 (generic function with 1 method)"
      ]
     },
     "metadata": {},
     "output_type": "display_data"
    }
   ],
   "source": [
    "# Résoudre une équation du second degré\n",
    "function solvepoly2(a, b, c)\n",
    "    if a == 0 && b != 0 \n",
    "        println(\"Il y'a une seule solution \", - c/b)\n",
    "        return -c/b\n",
    "    elseif a == 0 && b == 0 \n",
    "        if c == 0\n",
    "            println(\"Tous les reels sont solution\")\n",
    "        else\n",
    "            println(\"Pas de solutions\")\n",
    "        end\n",
    "    else\n",
    "        Δ = b^2 - 4 * a * c \n",
    "        if Δ >= 0\n",
    "            Δ1 = sqrt(Δ)\n",
    "            println(\"les 2 solutions sont \", (-b - Δ1)/(2 * a), \" et \",  (-b + Δ1)/(2 * a))\n",
    "        else\n",
    "            Δ1 = sqrt(Complex(Δ))\n",
    "            println(\"les 2 solutions sont \", (-b - Δ1)/(2 * a), \" et \",  (-b + Δ1)/(2 * a))     \n",
    "        end\n",
    "    end\n",
    "end"
   ]
  },
  {
   "cell_type": "code",
   "execution_count": 49,
   "metadata": {},
   "outputs": [
    {
     "name": "stdout",
     "output_type": "stream",
     "text": [
      "les 2 solutions sont -1.0 - 1.4142135623730951im et -1.0 + 1.4142135623730951im\n"
     ]
    }
   ],
   "source": [
    "solvepoly2(1, 2, 3)"
   ]
  },
  {
   "cell_type": "markdown",
   "metadata": {},
   "source": [
    "### Matrrices définies positives"
   ]
  },
  {
   "cell_type": "code",
   "execution_count": 50,
   "metadata": {},
   "outputs": [],
   "source": [
    "using LinearAlgebra"
   ]
  },
  {
   "cell_type": "code",
   "execution_count": 51,
   "metadata": {},
   "outputs": [
    {
     "data": {
      "text/plain": [
       "Test_matrice_definie_positive (generic function with 1 method)"
      ]
     },
     "metadata": {},
     "output_type": "display_data"
    }
   ],
   "source": [
    "## Mineurs principaux dominants\n",
    "function Test_matrice_definie_positive(A)\n",
    "    if A != A'\n",
    "        return false\n",
    "    end\n",
    "    n = size(A, 1)\n",
    "    for i in 1:n\n",
    "        if det(A[1:i, 1:i]) <= 0\n",
    "            return false\n",
    "        end\n",
    "    end\n",
    "    return true\n",
    "end"
   ]
  },
  {
   "cell_type": "code",
   "execution_count": 52,
   "metadata": {},
   "outputs": [
    {
     "data": {
      "text/plain": [
       "false"
      ]
     },
     "metadata": {},
     "output_type": "display_data"
    }
   ],
   "source": [
    "A = [1 2; 1 1]\n",
    "Test_matrice_definie_positive(A)"
   ]
  },
  {
   "cell_type": "code",
   "execution_count": 53,
   "metadata": {},
   "outputs": [
    {
     "data": {
      "text/plain": [
       "true"
      ]
     },
     "metadata": {},
     "output_type": "display_data"
    }
   ],
   "source": [
    "B = [2 1; 1 2]\n",
    "Test_matrice_definie_positive(B)"
   ]
  },
  {
   "cell_type": "code",
   "execution_count": 1,
   "metadata": {},
   "outputs": [
    {
     "name": "stderr",
     "output_type": "stream",
     "text": [
      "\u001b[32m\u001b[1m  Activating\u001b[22m\u001b[39m project at `~/Downloads/MTH8408-Hiv24-master/lab1/jump`\n"
     ]
    }
   ],
   "source": [
    "using Pkg; \n",
    "Pkg.activate(\"jump\")"
   ]
  },
  {
   "cell_type": "markdown",
   "metadata": {},
   "source": [
    "## JuMP: un langage de modélisation"
   ]
  },
  {
   "cell_type": "markdown",
   "metadata": {},
   "source": [
    "### JuMP ?\n",
    "JuMP est le language de modélisation pour l'optimisation natif dans Julia. En d'autres termes, on peut modéliser des problèmes d'optimisation en Julia grâce à ce package.\n",
    "\n",
    "JuMP fait partie de l'organisation [jump-dev](https://jump.dev/) qui propose un ensemble d'outils concernant l'optimisation.\n",
    "\n",
    "On pourra trouver beaucoup d'informations et d'exemples dans la documentation de JuMP [jump.dev/JuMP.jl/stable/](https://jump.dev/JuMP.jl/stable/)"
   ]
  },
  {
   "cell_type": "markdown",
   "metadata": {},
   "source": [
    "### Installer JuMP\n",
    "Comme on l'a fait pour `LinearAlgebra` il faut installer le package `JuMP` via le *package manager*."
   ]
  },
  {
   "cell_type": "code",
   "execution_count": 2,
   "metadata": {},
   "outputs": [
    {
     "ename": "ErrorException",
     "evalue": "syntax: unexpected \"]\"",
     "output_type": "error",
     "traceback": [
      "syntax: unexpected \"]\"\n",
      "\n",
      "Stacktrace:\n",
      " [1] top-level scope\n",
      "   @ ~/Downloads/MTH8408-Hiv24-master/lab1/notebook_jump.ipynb:1"
     ]
    }
   ],
   "source": [
    "] add JuMP"
   ]
  },
  {
   "cell_type": "code",
   "execution_count": null,
   "metadata": {},
   "outputs": [],
   "source": [
    "#ou alors:\n",
    "using Pkg\n",
    "Pkg.add(\"JuMP\")"
   ]
  },
  {
   "cell_type": "markdown",
   "metadata": {},
   "source": [
    "Ensuite, on peut ajouter `JuMP` a notre environement et commencer à l'utiliser."
   ]
  },
  {
   "cell_type": "code",
   "execution_count": 46,
   "metadata": {},
   "outputs": [],
   "source": [
    "using JuMP"
   ]
  },
  {
   "cell_type": "markdown",
   "metadata": {},
   "source": [
    "### Installer un solveur\n",
    "Dans cet exemple, on va ajouter [`Ipopt`](https://en.wikipedia.org/wiki/IPOPT) qui est un package qui fournit un solveur pour l'optimisation nonlinéaire."
   ]
  },
  {
   "cell_type": "code",
   "execution_count": 4,
   "metadata": {},
   "outputs": [
    {
     "ename": "ErrorException",
     "evalue": "syntax: unexpected \"]\"",
     "output_type": "error",
     "traceback": [
      "syntax: unexpected \"]\"\n",
      "\n",
      "Stacktrace:\n",
      " [1] top-level scope\n",
      "   @ ~/Downloads/MTH8408-Hiv24-master/lab1/notebook_jump.ipynb:1"
     ]
    }
   ],
   "source": [
    "] add Ipopt"
   ]
  },
  {
   "cell_type": "code",
   "execution_count": 5,
   "metadata": {},
   "outputs": [
    {
     "name": "stderr",
     "output_type": "stream",
     "text": [
      "\u001b[32m\u001b[1m    Updating\u001b[22m\u001b[39m registry at `~/.julia/registries/General.toml`\n",
      "\u001b[32m\u001b[1m   Resolving\u001b[22m\u001b[39m package versions...\n"
     ]
    },
    {
     "name": "stderr",
     "output_type": "stream",
     "text": [
      "\u001b[32m\u001b[1m  No Changes\u001b[22m\u001b[39m to `~/Downloads/MTH8408-Hiv24-master/lab1/jump/Project.toml`\n",
      "\u001b[32m\u001b[1m  No Changes\u001b[22m\u001b[39m to `~/Downloads/MTH8408-Hiv24-master/lab1/jump/Manifest.toml`\n"
     ]
    }
   ],
   "source": [
    "#ou alors:\n",
    "using Pkg\n",
    "Pkg.add(\"Ipopt\")"
   ]
  },
  {
   "cell_type": "code",
   "execution_count": 47,
   "metadata": {},
   "outputs": [],
   "source": [
    "using Ipopt"
   ]
  },
  {
   "cell_type": "code",
   "execution_count": 7,
   "metadata": {},
   "outputs": [
    {
     "name": "stderr",
     "output_type": "stream",
     "text": [
      "\u001b[32m\u001b[1m   Resolving\u001b[22m\u001b[39m package versions...\n",
      "\u001b[32m\u001b[1m  No Changes\u001b[22m\u001b[39m to `~/Downloads/MTH8408-Hiv24-master/lab1/jump/Project.toml`\n",
      "\u001b[32m\u001b[1m  No Changes\u001b[22m\u001b[39m to `~/Downloads/MTH8408-Hiv24-master/lab1/jump/Manifest.toml`\n"
     ]
    }
   ],
   "source": [
    "#ou alors:\n",
    "using Pkg\n",
    "Pkg.add(\"MathOptInterface\")"
   ]
  },
  {
   "cell_type": "markdown",
   "metadata": {},
   "source": [
    "On installe aussi `MathOptInterface` qui permet de communiquer entre le modèle et le solveur."
   ]
  },
  {
   "cell_type": "code",
   "execution_count": 5,
   "metadata": {},
   "outputs": [],
   "source": [
    "using MathOptInterface"
   ]
  },
  {
   "cell_type": "markdown",
   "metadata": {},
   "source": [
    "### Structure d'un modèle JuMP\n",
    "Tous les modèles écrits avec JuMP ont la même structure:\n",
    "- un objet `Model`, c'est l'initialisation de notre modèle.\n",
    "- un objet `Optimizer`, qui spécifie un solveur.\n",
    "- `Variables`, les variables du problème\n",
    "- `Objective`, la fonction objectif\n",
    "- `Constraints`, les contraintes."
   ]
  },
  {
   "cell_type": "markdown",
   "metadata": {},
   "source": [
    "#### Exemple d'un code complet: Optimisation non linéaire\n",
    "On résout ici un problème d'optimisation linéaire\n",
    "$$\n",
    "\\min_{x \\in R^2} 100 (x_2 - x_1^2)^2 + (1 - x_1)^2\\\n",
    "$$"
   ]
  },
  {
   "cell_type": "code",
   "execution_count": 57,
   "metadata": {},
   "outputs": [
    {
     "data": {
      "text/plain": [
       "A JuMP Model\n",
       "Feasibility problem with:\n",
       "Variables: 0\n",
       "Model mode: AUTOMATIC\n",
       "CachingOptimizer state: EMPTY_OPTIMIZER\n",
       "Solver name: Ipopt"
      ]
     },
     "metadata": {},
     "output_type": "display_data"
    }
   ],
   "source": [
    "model = Model(Ipopt.Optimizer)"
   ]
  },
  {
   "cell_type": "markdown",
   "metadata": {},
   "source": [
    "On définit les variables."
   ]
  },
  {
   "cell_type": "code",
   "execution_count": 58,
   "metadata": {},
   "outputs": [
    {
     "data": {
      "text/latex": [
       "$$ x2 $$"
      ],
      "text/plain": [
       "x2"
      ]
     },
     "metadata": {},
     "output_type": "display_data"
    }
   ],
   "source": [
    "@variable(model, x1)\n",
    "@variable(model, x2)"
   ]
  },
  {
   "cell_type": "markdown",
   "metadata": {},
   "source": [
    "Enfin, on ajoute la fonction objectif."
   ]
  },
  {
   "cell_type": "code",
   "execution_count": 59,
   "metadata": {},
   "outputs": [],
   "source": [
    "@NLobjective(model, Min, (x1 - 1)^2 + 100 * (x2 - x1)^2)"
   ]
  },
  {
   "cell_type": "markdown",
   "metadata": {},
   "source": [
    "Pour résoudre ce problème, on peut utiliser la fonction `optimize`."
   ]
  },
  {
   "cell_type": "code",
   "execution_count": 60,
   "metadata": {},
   "outputs": [
    {
     "name": "stdout",
     "output_type": "stream",
     "text": [
      "This is Ipopt version 3.14.4, running with linear solver MUMPS 5.4.1.\n",
      "\n",
      "Number of nonzeros in equality constraint Jacobian...:        0\n",
      "Number of nonzeros in inequality constraint Jacobian.:        0\n",
      "Number of nonzeros in Lagrangian Hessian.............:        3\n",
      "\n",
      "Total number of variables............................:        2\n",
      "                     variables with only lower bounds:        0\n",
      "                variables with lower and upper bounds:        0\n",
      "                     variables with only upper bounds:        0\n",
      "Total number of equality constraints.................:        0\n",
      "Total number of inequality constraints...............:        0\n",
      "        inequality constraints with only lower bounds:        0\n",
      "   inequality constraints with lower and upper bounds:        0\n",
      "        inequality constraints with only upper bounds:        0\n",
      "\n",
      "iter    objective    inf_pr   inf_du lg(mu)  ||d||  lg(rg) alpha_du alpha_pr  ls\n",
      "   0  1.0000000e+00 0.00e+00 2.00e+00  -1.0 0.00e+00    -  0.00e+00 0.00e+00   0\n",
      "   1  6.0397163e-29 0.00e+00 1.55e-14  -1.0 1.00e+00    -  1.00e+00 1.00e+00f  1\n",
      "\n",
      "Number of Iterations....: 1\n",
      "\n",
      "                                   (scaled)                 (unscaled)\n",
      "Objective...............:   6.0397163055983716e-29    6.0397163055983716e-29\n",
      "Dual infeasibility......:   1.5543122344752192e-14    1.5543122344752192e-14\n",
      "Constraint violation....:   0.0000000000000000e+00    0.0000000000000000e+00\n",
      "Variable bound violation:   0.0000000000000000e+00    0.0000000000000000e+00\n",
      "Complementarity.........:   0.0000000000000000e+00    0.0000000000000000e+00\n",
      "Overall NLP error.......:   1.5543122344752192e-14    1.5543122344752192e-14\n",
      "\n",
      "\n",
      "Number of objective function evaluations             = 2\n",
      "Number of objective gradient evaluations             = 2\n",
      "Number of equality constraint evaluations            = 0\n",
      "Number of inequality constraint evaluations          = 0\n",
      "Number of equality constraint Jacobian evaluations   = 0\n",
      "Number of inequality constraint Jacobian evaluations = 0\n",
      "Number of Lagrangian Hessian evaluations             = 1\n",
      "Total seconds in IPOPT                               = 0.002\n",
      "\n",
      "EXIT: Optimal Solution Found.\n"
     ]
    }
   ],
   "source": [
    "JuMP.optimize!(model)"
   ]
  },
  {
   "cell_type": "markdown",
   "metadata": {},
   "source": [
    "Une fois la résolution terminée, on peut vérifier le status de la résolution."
   ]
  },
  {
   "cell_type": "code",
   "execution_count": 61,
   "metadata": {},
   "outputs": [
    {
     "name": "stdout",
     "output_type": "stream",
     "text": [
      "JuMP.has_values(model) = true\n",
      "JuMP.termination_status(model) == MathOptInterface.LOCALLY_SOLVED = true\n",
      "JuMP.primal_status(model) == MathOptInterface.FEASIBLE_POINT = true\n",
      "JuMP.dual_status(model) == MathOptInterface.FEASIBLE_POINT = true\n"
     ]
    },
    {
     "data": {
      "text/plain": [
       "true"
      ]
     },
     "metadata": {},
     "output_type": "display_data"
    }
   ],
   "source": [
    "@show JuMP.has_values(model)\n",
    "@show JuMP.termination_status(model) == MathOptInterface.LOCALLY_SOLVED\n",
    "@show JuMP.primal_status(model) == MathOptInterface.FEASIBLE_POINT\n",
    "@show JuMP.dual_status(model) == MathOptInterface.FEASIBLE_POINT"
   ]
  },
  {
   "cell_type": "markdown",
   "metadata": {},
   "source": [
    "On peut également faire une analyse sur la solution obtenue."
   ]
  },
  {
   "cell_type": "code",
   "execution_count": 62,
   "metadata": {},
   "outputs": [
    {
     "name": "stdout",
     "output_type": "stream",
     "text": [
      "JuMP.value(x1) = 0.9999999999999922\n",
      "JuMP.value(x2) = 0.9999999999999922\n",
      "JuMP.objective_value(model) = 6.039716305598372e-29\n"
     ]
    },
    {
     "data": {
      "text/plain": [
       "6.039716305598372e-29"
      ]
     },
     "metadata": {},
     "output_type": "display_data"
    }
   ],
   "source": [
    "@show JuMP.value(x1)              # Old syntax: getvalue(x)\n",
    "@show JuMP.value(x2)              # Old syntax: getvalue(y)\n",
    "@show JuMP.objective_value(model)       # Old syntax: getobjectivevalue(model)"
   ]
  },
  {
   "cell_type": "markdown",
   "metadata": {},
   "source": [
    "## Solve an NLPModel with Ipopt\n",
    "\n",
    "The problem created with `JuMP` can be solved with `Ipopt`."
   ]
  },
  {
   "cell_type": "code",
   "execution_count": 68,
   "metadata": {},
   "outputs": [
    {
     "name": "stderr",
     "output_type": "stream",
     "text": [
      "\u001b[32m\u001b[1m   Resolving\u001b[22m\u001b[39m package versions...\n"
     ]
    },
    {
     "name": "stderr",
     "output_type": "stream",
     "text": [
      "\u001b[32m\u001b[1m    Updating\u001b[22m\u001b[39m `~/Downloads/MTH8408-Hiv24-master/lab1/jump/Project.toml`\n",
      " \u001b[90m [54578032] \u001b[39m\u001b[92m+ ADNLPModels v0.7.0\u001b[39m\n",
      "\u001b[32m\u001b[1m    Updating\u001b[22m\u001b[39m `~/Downloads/MTH8408-Hiv24-master/lab1/jump/Manifest.toml`\n",
      " \u001b[90m [54578032] \u001b[39m\u001b[92m+ ADNLPModels v0.7.0\u001b[39m\n",
      " \u001b[90m [ffa27691] \u001b[39m\u001b[92m+ ColPack v0.3.0\u001b[39m\n",
      " \u001b[90m [069b7b12] \u001b[39m\u001b[92m+ FunctionWrappers v1.1.3\u001b[39m\n",
      " \u001b[90m [37e2e3b7] \u001b[39m\u001b[92m+ ReverseDiff v1.15.1\u001b[39m\n",
      " \u001b[90m [f218ff0c] \u001b[39m\u001b[92m+ ColPack_jll v0.3.0+0\u001b[39m\n"
     ]
    }
   ],
   "source": [
    "Pkg.add(\"ADNLPModels\")"
   ]
  },
  {
   "cell_type": "code",
   "execution_count": null,
   "metadata": {},
   "outputs": [
    {
     "name": "stderr",
     "output_type": "stream",
     "text": [
      "\u001b[32m\u001b[1m   Resolving\u001b[22m\u001b[39m package versions...\n"
     ]
    },
    {
     "name": "stderr",
     "output_type": "stream",
     "text": [
      "\u001b[32m\u001b[1m    Updating\u001b[22m\u001b[39m `~/Downloads/MTH8408-Hiv24-master/lab1/nlpmodels/Project.toml`\n",
      "\u001b[32m⌃\u001b[39m\u001b[90m [b6b21f68] \u001b[39m\u001b[92m+ Ipopt v1.4.0\u001b[39m\n",
      "\u001b[32m\u001b[1m  No Changes\u001b[22m\u001b[39m to `~/Downloads/MTH8408-Hiv24-master/lab1/nlpmodels/Manifest.toml`\n"
     ]
    }
   ],
   "source": [
    "Pkg.add(\"NLPModels\")"
   ]
  },
  {
   "cell_type": "code",
   "execution_count": 66,
   "metadata": {},
   "outputs": [
    {
     "name": "stderr",
     "output_type": "stream",
     "text": [
      "\u001b[32m\u001b[1m    Updating\u001b[22m\u001b[39m registry at `~/.julia/registries/General.toml`\n",
      "\u001b[32m\u001b[1m   Resolving\u001b[22m\u001b[39m package versions...\n"
     ]
    },
    {
     "name": "stderr",
     "output_type": "stream",
     "text": [
      "\u001b[32m\u001b[1m    Updating\u001b[22m\u001b[39m `~/Downloads/MTH8408-Hiv24-master/lab1/jump/Project.toml`\n",
      " \u001b[90m [f4238b75] \u001b[39m\u001b[92m+ NLPModelsIpopt v0.10.1\u001b[39m\n",
      "\u001b[32m\u001b[1m    Updating\u001b[22m\u001b[39m `~/Downloads/MTH8408-Hiv24-master/lab1/jump/Manifest.toml`\n",
      " \u001b[90m [14f7f29c] \u001b[39m\u001b[92m+ AMD v0.5.3\u001b[39m\n",
      " \u001b[90m [e2ba6199] \u001b[39m\u001b[92m+ ExprTools v0.1.10\u001b[39m\n",
      " \u001b[90m [9aa1b823] \u001b[39m\u001b[92m+ FastClosures v0.3.2\u001b[39m\n",
      " \u001b[90m [40e66cde] \u001b[39m\u001b[92m+ LDLFactorizations v0.10.1\u001b[39m\n",
      " \u001b[90m [5c8ed15e] \u001b[39m\u001b[92m+ LinearOperators v2.6.0\u001b[39m\n",
      " \u001b[90m [a4795742] \u001b[39m\u001b[92m+ NLPModels v0.20.0\u001b[39m\n",
      " \u001b[90m [f4238b75] \u001b[39m\u001b[92m+ NLPModelsIpopt v0.10.1\u001b[39m\n",
      " \u001b[90m [ae029012] \u001b[39m\u001b[92m+ Requires v1.3.0\u001b[39m\n",
      " \u001b[90m [ff4d7338] \u001b[39m\u001b[92m+ SolverCore v0.3.7\u001b[39m\n",
      " \u001b[90m [a759f4b9] \u001b[39m\u001b[92m+ TimerOutputs v0.5.23\u001b[39m\n",
      " \u001b[90m [bea87d4a] \u001b[39m\u001b[92m+ SuiteSparse_jll v5.10.1+0\u001b[39m\n"
     ]
    }
   ],
   "source": [
    "Pkg.add(\"NLPModelsIpopt\")"
   ]
  },
  {
   "cell_type": "code",
   "execution_count": 63,
   "metadata": {},
   "outputs": [
    {
     "name": "stdout",
     "output_type": "stream",
     "text": [
      "This is Ipopt version 3.14.4, running with linear solver MUMPS 5.4.1.\n",
      "\n",
      "Number of nonzeros in equality constraint Jacobian...:        0\n",
      "Number of nonzeros in inequality constraint Jacobian.:        0\n",
      "Number of nonzeros in Lagrangian Hessian.............:        3\n",
      "\n",
      "Total number of variables............................:        2\n",
      "                     variables with only lower bounds:        0\n",
      "                variables with lower and upper bounds:        0\n",
      "                     variables with only upper bounds:        0\n",
      "Total number of equality constraints.................:        0\n",
      "Total number of inequality constraints...............:        0\n",
      "        inequality constraints with only lower bounds:        0\n",
      "   inequality constraints with lower and upper bounds:        0\n",
      "        inequality constraints with only upper bounds:        0\n",
      "\n",
      "iter    objective    inf_pr   inf_du lg(mu)  ||d||  lg(rg) alpha_du alpha_pr  ls\n",
      "   0  2.4200000e+01 0.00e+00 1.00e+02  -1.0 0.00e+00    -  0.00e+00 0.00e+00   0\n",
      "   1  4.7318843e+00 0.00e+00 2.15e+00  -1.0 3.81e-01    -  1.00e+00 1.00e+00f  1\n",
      "   2  4.0873987e+00 0.00e+00 1.20e+01  -1.0 4.56e+00    -  1.00e+00 1.25e-01f  4\n",
      "   3  3.2286726e+00 0.00e+00 4.94e+00  -1.0 2.21e-01    -  1.00e+00 1.00e+00f  1\n",
      "   4  3.2138981e+00 0.00e+00 1.02e+01  -1.0 4.82e-01    -  1.00e+00 1.00e+00f  1\n",
      "   5  1.9425854e+00 0.00e+00 1.62e+00  -1.0 6.70e-02    -  1.00e+00 1.00e+00f  1\n",
      "   6  1.6001937e+00 0.00e+00 3.44e+00  -1.0 7.35e-01    -  1.00e+00 2.50e-01f  3\n",
      "   7  1.1783896e+00 0.00e+00 1.92e+00  -1.0 1.44e-01    -  1.00e+00 1.00e+00f  1\n",
      "   8  9.2241158e-01 0.00e+00 4.00e+00  -1.0 2.08e-01    -  1.00e+00 1.00e+00f  1\n",
      "   9  5.9748862e-01 0.00e+00 7.36e-01  -1.0 8.91e-02    -  1.00e+00 1.00e+00f  1\n",
      "iter    objective    inf_pr   inf_du lg(mu)  ||d||  lg(rg) alpha_du alpha_pr  ls\n",
      "  10  4.5262510e-01 0.00e+00 2.42e+00  -1.7 2.97e-01    -  1.00e+00 5.00e-01f  2\n",
      "  11  2.8076244e-01 0.00e+00 9.25e-01  -1.7 1.02e-01    -  1.00e+00 1.00e+00f  1\n",
      "  12  2.1139340e-01 0.00e+00 3.34e+00  -1.7 1.77e-01    -  1.00e+00 1.00e+00f  1\n",
      "  13  8.9019501e-02 0.00e+00 2.25e-01  -1.7 9.45e-02    -  1.00e+00 1.00e+00f  1\n",
      "  14  5.1535405e-02 0.00e+00 1.49e+00  -1.7 2.84e-01    -  1.00e+00 5.00e-01f  2\n",
      "  15  1.9992778e-02 0.00e+00 4.64e-01  -1.7 1.09e-01    -  1.00e+00 1.00e+00f  1\n",
      "  16  7.1692436e-03 0.00e+00 1.03e+00  -1.7 1.39e-01    -  1.00e+00 1.00e+00f  1\n",
      "  17  1.0696137e-03 0.00e+00 9.09e-02  -1.7 5.50e-02    -  1.00e+00 1.00e+00f  1\n",
      "  18  7.7768464e-05 0.00e+00 1.44e-01  -2.5 5.53e-02    -  1.00e+00 1.00e+00f  1\n",
      "  19  2.8246695e-07 0.00e+00 1.50e-03  -2.5 7.31e-03    -  1.00e+00 1.00e+00f  1\n",
      "iter    objective    inf_pr   inf_du lg(mu)  ||d||  lg(rg) alpha_du alpha_pr  ls\n",
      "  20  8.5170750e-12 0.00e+00 4.90e-05  -5.7 1.05e-03    -  1.00e+00 1.00e+00f  1\n",
      "  21  3.7439756e-21 0.00e+00 1.73e-10  -5.7 2.49e-06    -  1.00e+00 1.00e+00f  1\n",
      "\n",
      "Number of Iterations....: 21\n",
      "\n",
      "                                   (scaled)                 (unscaled)\n",
      "Objective...............:   1.7365378678754519e-21    3.7439756431394737e-21\n",
      "Dual infeasibility......:   1.7312156654298279e-10    3.7325009746667082e-10\n",
      "Constraint violation....:   0.0000000000000000e+00    0.0000000000000000e+00\n",
      "Variable bound violation:   0.0000000000000000e+00    0.0000000000000000e+00\n",
      "Complementarity.........:   0.0000000000000000e+00    0.0000000000000000e+00\n",
      "Overall NLP error.......:   1.7312156654298279e-10    3.7325009746667082e-10\n",
      "\n",
      "\n",
      "Number of objective function evaluations             = 45\n",
      "Number of objective gradient evaluations             = 22\n",
      "Number of equality constraint evaluations            = 0\n",
      "Number of inequality constraint evaluations          = 0\n",
      "Number of equality constraint Jacobian evaluations   = 0\n",
      "Number of inequality constraint Jacobian evaluations = 0\n",
      "Number of Lagrangian Hessian evaluations             = 21\n",
      "Total seconds in IPOPT                               = 0.008\n",
      "\n",
      "EXIT: Optimal Solution Found.\n"
     ]
    }
   ],
   "source": [
    "using JuMP, Ipopt\n",
    "\n",
    "model = Model(Ipopt.Optimizer)\n",
    "x0 = [-1.2; 1.0]\n",
    "@variable(model, x[i=1:2], start=x0[i])\n",
    "@NLobjective(model, Min, (x[1] - 1)^2 + 100 * (x[2] - x[1]^2)^2)\n",
    "optimize!(model)"
   ]
  },
  {
   "cell_type": "code",
   "execution_count": 75,
   "metadata": {},
   "outputs": [
    {
     "name": "stdout",
     "output_type": "stream",
     "text": [
      "JuMP.has_values(model) = true\n",
      "JuMP.termination_status(model) == MathOptInterface.LOCALLY_SOLVED = true\n",
      "JuMP.primal_status(model) == MathOptInterface.FEASIBLE_POINT = true\n",
      "JuMP.dual_status(model) == MathOptInterface.FEASIBLE_POINT = true\n"
     ]
    },
    {
     "data": {
      "text/plain": [
       "true"
      ]
     },
     "metadata": {},
     "output_type": "display_data"
    }
   ],
   "source": [
    "@show JuMP.has_values(model)\n",
    "@show JuMP.termination_status(model) == MathOptInterface.LOCALLY_SOLVED\n",
    "@show JuMP.primal_status(model) == MathOptInterface.FEASIBLE_POINT\n",
    "@show JuMP.dual_status(model) == MathOptInterface.FEASIBLE_POINT"
   ]
  },
  {
   "cell_type": "markdown",
   "metadata": {},
   "source": [
    "The same can be achieved very easily with `NLPModels` using the package `NLPModelsIpopt` and its function `ipopt`."
   ]
  },
  {
   "cell_type": "code",
   "execution_count": 73,
   "metadata": {},
   "outputs": [
    {
     "name": "stdout",
     "output_type": "stream",
     "text": [
      "This is Ipopt version 3.14.4, running with linear solver MUMPS 5.4.1.\n",
      "\n",
      "Number of nonzeros in equality constraint Jacobian...:        0\n",
      "Number of nonzeros in inequality constraint Jacobian.:        0\n",
      "Number of nonzeros in Lagrangian Hessian.............:        3\n",
      "\n",
      "Total number of variables............................:        2\n",
      "                     variables with only lower bounds:        0\n",
      "                variables with lower and upper bounds:        0\n",
      "                     variables with only upper bounds:        0\n",
      "Total number of equality constraints.................:        0\n",
      "Total number of inequality constraints...............:        0\n",
      "        inequality constraints with only lower bounds:        0\n",
      "   inequality constraints with lower and upper bounds:        0\n",
      "        inequality constraints with only upper bounds:        0\n",
      "\n",
      "iter    objective    inf_pr   inf_du lg(mu)  ||d||  lg(rg) alpha_du alpha_pr  ls\n",
      "   0  2.4200000e+01 0.00e+00 1.00e+02  -1.0 0.00e+00    -  0.00e+00 0.00e+00   0\n",
      "   1  4.7318843e+00 0.00e+00 2.15e+00  -1.0 3.81e-01    -  1.00e+00 1.00e+00f  1\n",
      "   2  4.0873987e+00 0.00e+00 1.20e+01  -1.0 4.56e+00    -  1.00e+00 1.25e-01f  4\n",
      "   3  3.2286726e+00 0.00e+00 4.94e+00  -1.0 2.21e-01    -  1.00e+00 1.00e+00f  1\n",
      "   4  3.2138981e+00 0.00e+00 1.02e+01  -1.0 4.82e-01    -  1.00e+00 1.00e+00f  1\n",
      "   5  1.9425854e+00 0.00e+00 1.62e+00  -1.0 6.70e-02    -  1.00e+00 1.00e+00f  1\n",
      "   6  1.6001937e+00 0.00e+00 3.44e+00  -1.0 7.35e-01    -  1.00e+00 2.50e-01f  3\n",
      "   7  1.1783896e+00 0.00e+00 1.92e+00  -1.0 1.44e-01    -  1.00e+00 1.00e+00f  1\n",
      "   8  9.2241158e-01 0.00e+00 4.00e+00  -1.0 2.08e-01    -  1.00e+00 1.00e+00f  1\n",
      "   9  5.9748862e-01 0.00e+00 7.36e-01  -1.0 8.91e-02    -  1.00e+00 1.00e+00f  1\n",
      "iter    objective    inf_pr   inf_du lg(mu)  ||d||  lg(rg) alpha_du alpha_pr  ls\n",
      "  10  4.5262510e-01 0.00e+00 2.42e+00  -1.7 2.97e-01    -  1.00e+00 5.00e-01f  2\n",
      "  11  2.8076244e-01 0.00e+00 9.25e-01  -1.7 1.02e-01    -  1.00e+00 1.00e+00f  1\n",
      "  12  2.1139340e-01 0.00e+00 3.34e+00  -1.7 1.77e-01    -  1.00e+00 1.00e+00f  1\n",
      "  13  8.9019501e-02 0.00e+00 2.25e-01  -1.7 9.45e-02    -  1.00e+00 1.00e+00f  1\n",
      "  14  5.1535405e-02 0.00e+00 1.49e+00  -1.7 2.84e-01    -  1.00e+00 5.00e-01f  2\n",
      "  15  1.9992778e-02 0.00e+00 4.64e-01  -1.7 1.09e-01    -  1.00e+00 1.00e+00f  1\n",
      "  16  7.1692436e-03 0.00e+00 1.03e+00  -1.7 1.39e-01    -  1.00e+00 1.00e+00f  1\n",
      "  17  1.0696137e-03 0.00e+00 9.09e-02  -1.7 5.50e-02    -  1.00e+00 1.00e+00f  1\n",
      "  18  7.7768464e-05 0.00e+00 1.44e-01  -2.5 5.53e-02    -  1.00e+00 1.00e+00f  1\n",
      "  19  2.8246695e-07 0.00e+00 1.50e-03  -2.5 7.31e-03    -  1.00e+00 1.00e+00f  1\n",
      "iter    objective    inf_pr   inf_du lg(mu)  ||d||  lg(rg) alpha_du alpha_pr  ls\n",
      "  20  8.5170750e-12 0.00e+00 4.90e-05  -5.7 1.05e-03    -  1.00e+00 1.00e+00f  1\n",
      "  21  3.7439756e-21 0.00e+00 1.73e-10  -5.7 2.49e-06    -  1.00e+00 1.00e+00f  1\n",
      "\n",
      "Number of Iterations....: 21\n",
      "\n",
      "                                   (scaled)                 (unscaled)\n",
      "Objective...............:   1.7365378678754519e-21    3.7439756431394737e-21\n",
      "Dual infeasibility......:   1.7312156654298279e-10    3.7325009746667082e-10\n",
      "Constraint violation....:   0.0000000000000000e+00    0.0000000000000000e+00\n",
      "Variable bound violation:   0.0000000000000000e+00    0.0000000000000000e+00\n",
      "Complementarity.........:   0.0000000000000000e+00    0.0000000000000000e+00\n",
      "Overall NLP error.......:   1.7312156654298279e-10    3.7325009746667082e-10\n",
      "\n",
      "\n",
      "Number of objective function evaluations             = 45\n",
      "Number of objective gradient evaluations             = 22\n",
      "Number of equality constraint evaluations            = 0\n",
      "Number of inequality constraint evaluations          = 0\n",
      "Number of equality constraint Jacobian evaluations   = 0\n",
      "Number of inequality constraint Jacobian evaluations = 0\n",
      "Number of Lagrangian Hessian evaluations             = 21\n",
      "Total seconds in IPOPT                               = 0.350\n",
      "\n",
      "EXIT: Optimal Solution Found.\n",
      "Generic Execution stats\n",
      "  status: first-order stationary\n",
      "  objective value: 3.743975643139474e-21\n",
      "  primal feasibility: 0.0\n",
      "  dual feasibility: 3.732500974666708e-10\n",
      "  solution: [0.9999999999400667  0.9999999998789006]\n",
      "  iterations: 21\n",
      "  elapsed time: 0.35\n",
      "  solver specific:\n",
      "    real_time: 0.35014891624450684\n",
      "    internal_msg: :Solve_Succeeded\n"
     ]
    }
   ],
   "source": [
    "using NLPModels, NLPModelsIpopt, ADNLPModels\n",
    "\n",
    "nlp = ADNLPModel(x -> (x[1] - 1)^2 + 100 * (x[2] - x[1]^2)^2, [-1.2; 1.0])\n",
    "stats = ipopt(nlp)\n",
    "print(stats)"
   ]
  },
  {
   "cell_type": "code",
   "execution_count": 71,
   "metadata": {},
   "outputs": [
    {
     "data": {
      "text/plain": [
       "3.743975643139474e-21"
      ]
     },
     "metadata": {},
     "output_type": "display_data"
    }
   ],
   "source": [
    "stats.objective"
   ]
  },
  {
   "cell_type": "code",
   "execution_count": 72,
   "metadata": {},
   "outputs": [
    {
     "data": {
      "text/plain": [
       "2-element Vector{Float64}:\n",
       " 0.9999999999400667\n",
       " 0.9999999998789006"
      ]
     },
     "metadata": {},
     "output_type": "display_data"
    }
   ],
   "source": [
    "stats.solution  "
   ]
  }
 ],
 "metadata": {
  "kernelspec": {
   "display_name": "Julia 1.8.3",
   "language": "julia",
   "name": "julia-1.8"
  },
  "language_info": {
   "file_extension": ".jl",
   "mimetype": "application/julia",
   "name": "julia",
   "version": "1.8.3"
  }
 },
 "nbformat": 4,
 "nbformat_minor": 4
}
